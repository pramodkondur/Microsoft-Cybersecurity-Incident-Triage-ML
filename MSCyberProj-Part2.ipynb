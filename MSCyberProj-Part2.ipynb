{
 "cells": [
  {
   "cell_type": "markdown",
   "id": "49b01839-acef-4ae0-a370-f7982e62f5c1",
   "metadata": {},
   "source": [
    "# Microsoft : Classifying Cybersecurity Incidents with Machine Learning"
   ]
  },
  {
   "cell_type": "markdown",
   "id": "6e8931ad-b1dd-4181-a9e9-e08d96d85d6d",
   "metadata": {},
   "source": [
    "## Part 2 - Model Training and Evaluation"
   ]
  },
  {
   "cell_type": "code",
   "execution_count": 2,
   "id": "afb6184e-8d3e-447e-8846-cdc91e4de203",
   "metadata": {
    "tags": []
   },
   "outputs": [],
   "source": [
    "import pandas as pd"
   ]
  },
  {
   "cell_type": "code",
   "execution_count": 3,
   "id": "3ee4a030-b63f-4f51-bb01-7f51145d5034",
   "metadata": {
    "tags": []
   },
   "outputs": [],
   "source": [
    "from sklearn.model_selection import train_test_split\n",
    "from sklearn.ensemble import RandomForestClassifier\n",
    "from sklearn.metrics import classification_report, accuracy_score\n",
    "from xgboost import XGBClassifier\n",
    "from sklearn.preprocessing import LabelEncoder"
   ]
  },
  {
   "cell_type": "code",
   "execution_count": 4,
   "id": "35a26c37-35d5-4696-8c40-be07318553d3",
   "metadata": {
    "tags": []
   },
   "outputs": [
    {
     "data": {
      "application/vnd.jupyter.widget-view+json": {
       "model_id": "c894bfa7fefb40708cf4a8b112959311",
       "version_major": 2,
       "version_minor": 0
      },
      "text/plain": [
       "Query is running:   0%|          |"
      ]
     },
     "metadata": {},
     "output_type": "display_data"
    },
    {
     "name": "stderr",
     "output_type": "stream",
     "text": [
      "/opt/conda/lib/python3.10/site-packages/google/cloud/bigquery/table.py:2309: UserWarning: Unable to represent RANGE schema as struct using pandas ArrowDtype. Using `object` instead. To use ArrowDtype, use pandas >= 1.5 and pyarrow >= 10.0.1.\n",
      "  warnings.warn(_RANGE_PYARROW_WARNING)\n",
      "/opt/conda/lib/python3.10/site-packages/google/cloud/bigquery/table.py:2323: UserWarning: Unable to represent RANGE schema as struct using pandas ArrowDtype. Using `object` instead. To use ArrowDtype, use pandas >= 1.5 and pyarrow >= 10.0.1.\n",
      "  warnings.warn(_RANGE_PYARROW_WARNING)\n",
      "/opt/conda/lib/python3.10/site-packages/google/cloud/bigquery/table.py:2337: UserWarning: Unable to represent RANGE schema as struct using pandas ArrowDtype. Using `object` instead. To use ArrowDtype, use pandas >= 1.5 and pyarrow >= 10.0.1.\n",
      "  warnings.warn(_RANGE_PYARROW_WARNING)\n"
     ]
    },
    {
     "data": {
      "application/vnd.jupyter.widget-view+json": {
       "model_id": "5d826335b4624c5bb05e8eda43e35ae6",
       "version_major": 2,
       "version_minor": 0
      },
      "text/plain": [
       "Downloading:   0%|          |"
      ]
     },
     "metadata": {},
     "output_type": "display_data"
    }
   ],
   "source": [
    "#%%bigquery df_train\n",
    "#SELECT * FROM `data.mscyberdataset.train_table`"
   ]
  },
  {
   "cell_type": "code",
   "execution_count": 5,
   "id": "dbc06696-7a32-46bd-9013-63da01516177",
   "metadata": {
    "tags": []
   },
   "outputs": [
    {
     "data": {
      "text/html": [
       "<div>\n",
       "<style scoped>\n",
       "    .dataframe tbody tr th:only-of-type {\n",
       "        vertical-align: middle;\n",
       "    }\n",
       "\n",
       "    .dataframe tbody tr th {\n",
       "        vertical-align: top;\n",
       "    }\n",
       "\n",
       "    .dataframe thead th {\n",
       "        text-align: right;\n",
       "    }\n",
       "</style>\n",
       "<table border=\"1\" class=\"dataframe\">\n",
       "  <thead>\n",
       "    <tr style=\"text-align: right;\">\n",
       "      <th></th>\n",
       "      <th>Id</th>\n",
       "      <th>OrgId</th>\n",
       "      <th>IncidentId</th>\n",
       "      <th>AlertId</th>\n",
       "      <th>DetectorId</th>\n",
       "      <th>AlertTitle</th>\n",
       "      <th>Category</th>\n",
       "      <th>IncidentGrade</th>\n",
       "      <th>EntityType</th>\n",
       "      <th>EvidenceRole</th>\n",
       "      <th>...</th>\n",
       "      <th>RegistryKey</th>\n",
       "      <th>RegistryValueName</th>\n",
       "      <th>ApplicationId</th>\n",
       "      <th>OAuthApplicationId</th>\n",
       "      <th>ResourceIdName</th>\n",
       "      <th>OSFamily</th>\n",
       "      <th>CountryCode</th>\n",
       "      <th>Day</th>\n",
       "      <th>Month</th>\n",
       "      <th>Hour</th>\n",
       "    </tr>\n",
       "  </thead>\n",
       "  <tbody>\n",
       "    <tr>\n",
       "      <th>0</th>\n",
       "      <td>137438953842</td>\n",
       "      <td>64</td>\n",
       "      <td>6661</td>\n",
       "      <td>4731</td>\n",
       "      <td>366</td>\n",
       "      <td>155</td>\n",
       "      <td>5</td>\n",
       "      <td>0</td>\n",
       "      <td>32</td>\n",
       "      <td>0</td>\n",
       "      <td>...</td>\n",
       "      <td>1631</td>\n",
       "      <td>635</td>\n",
       "      <td>2251</td>\n",
       "      <td>881</td>\n",
       "      <td>3586</td>\n",
       "      <td>5</td>\n",
       "      <td>242</td>\n",
       "      <td>3</td>\n",
       "      <td>6</td>\n",
       "      <td>17</td>\n",
       "    </tr>\n",
       "    <tr>\n",
       "      <th>1</th>\n",
       "      <td>824633721226</td>\n",
       "      <td>539</td>\n",
       "      <td>102061</td>\n",
       "      <td>1475076</td>\n",
       "      <td>880</td>\n",
       "      <td>1476</td>\n",
       "      <td>10</td>\n",
       "      <td>0</td>\n",
       "      <td>32</td>\n",
       "      <td>0</td>\n",
       "      <td>...</td>\n",
       "      <td>1631</td>\n",
       "      <td>635</td>\n",
       "      <td>2251</td>\n",
       "      <td>881</td>\n",
       "      <td>3586</td>\n",
       "      <td>5</td>\n",
       "      <td>242</td>\n",
       "      <td>8</td>\n",
       "      <td>6</td>\n",
       "      <td>18</td>\n",
       "    </tr>\n",
       "    <tr>\n",
       "      <th>2</th>\n",
       "      <td>996432413087</td>\n",
       "      <td>54</td>\n",
       "      <td>527816</td>\n",
       "      <td>1442982</td>\n",
       "      <td>132</td>\n",
       "      <td>9360</td>\n",
       "      <td>7</td>\n",
       "      <td>0</td>\n",
       "      <td>32</td>\n",
       "      <td>0</td>\n",
       "      <td>...</td>\n",
       "      <td>1631</td>\n",
       "      <td>635</td>\n",
       "      <td>2251</td>\n",
       "      <td>881</td>\n",
       "      <td>3586</td>\n",
       "      <td>5</td>\n",
       "      <td>242</td>\n",
       "      <td>6</td>\n",
       "      <td>6</td>\n",
       "      <td>12</td>\n",
       "    </tr>\n",
       "    <tr>\n",
       "      <th>3</th>\n",
       "      <td>1271310321504</td>\n",
       "      <td>795</td>\n",
       "      <td>41259</td>\n",
       "      <td>70207</td>\n",
       "      <td>161</td>\n",
       "      <td>131</td>\n",
       "      <td>16</td>\n",
       "      <td>0</td>\n",
       "      <td>32</td>\n",
       "      <td>0</td>\n",
       "      <td>...</td>\n",
       "      <td>1631</td>\n",
       "      <td>635</td>\n",
       "      <td>2251</td>\n",
       "      <td>881</td>\n",
       "      <td>3586</td>\n",
       "      <td>5</td>\n",
       "      <td>242</td>\n",
       "      <td>14</td>\n",
       "      <td>6</td>\n",
       "      <td>1</td>\n",
       "    </tr>\n",
       "    <tr>\n",
       "      <th>4</th>\n",
       "      <td>704374637112</td>\n",
       "      <td>576</td>\n",
       "      <td>30787</td>\n",
       "      <td>45958</td>\n",
       "      <td>163</td>\n",
       "      <td>134</td>\n",
       "      <td>10</td>\n",
       "      <td>0</td>\n",
       "      <td>32</td>\n",
       "      <td>0</td>\n",
       "      <td>...</td>\n",
       "      <td>1631</td>\n",
       "      <td>635</td>\n",
       "      <td>2251</td>\n",
       "      <td>881</td>\n",
       "      <td>3586</td>\n",
       "      <td>5</td>\n",
       "      <td>242</td>\n",
       "      <td>14</td>\n",
       "      <td>6</td>\n",
       "      <td>20</td>\n",
       "    </tr>\n",
       "  </tbody>\n",
       "</table>\n",
       "<p>5 rows × 28 columns</p>\n",
       "</div>"
      ],
      "text/plain": [
       "              Id  OrgId  IncidentId  AlertId  DetectorId  AlertTitle  \\\n",
       "0   137438953842     64        6661     4731         366         155   \n",
       "1   824633721226    539      102061  1475076         880        1476   \n",
       "2   996432413087     54      527816  1442982         132        9360   \n",
       "3  1271310321504    795       41259    70207         161         131   \n",
       "4   704374637112    576       30787    45958         163         134   \n",
       "\n",
       "   Category  IncidentGrade  EntityType  EvidenceRole  ...  RegistryKey  \\\n",
       "0         5              0          32             0  ...         1631   \n",
       "1        10              0          32             0  ...         1631   \n",
       "2         7              0          32             0  ...         1631   \n",
       "3        16              0          32             0  ...         1631   \n",
       "4        10              0          32             0  ...         1631   \n",
       "\n",
       "   RegistryValueName  ApplicationId  OAuthApplicationId  ResourceIdName  \\\n",
       "0                635           2251                 881            3586   \n",
       "1                635           2251                 881            3586   \n",
       "2                635           2251                 881            3586   \n",
       "3                635           2251                 881            3586   \n",
       "4                635           2251                 881            3586   \n",
       "\n",
       "   OSFamily  CountryCode  Day  Month  Hour  \n",
       "0         5          242    3      6    17  \n",
       "1         5          242    8      6    18  \n",
       "2         5          242    6      6    12  \n",
       "3         5          242   14      6     1  \n",
       "4         5          242   14      6    20  \n",
       "\n",
       "[5 rows x 28 columns]"
      ]
     },
     "execution_count": 5,
     "metadata": {},
     "output_type": "execute_result"
    }
   ],
   "source": [
    "df_train.head()"
   ]
  },
  {
   "cell_type": "code",
   "execution_count": 8,
   "id": "5b505c63-1fbe-4f74-ab70-24859d73943b",
   "metadata": {
    "tags": []
   },
   "outputs": [],
   "source": [
    "#Splitting data\n",
    "X= df_train.drop('IncidentGrade',axis=1)\n",
    "y= df_train['IncidentGrade']\n",
    "\n",
    "X_train, X_test, y_train, y_test = train_test_split(X, y, test_size=0.2, random_state=42)"
   ]
  },
  {
   "cell_type": "code",
   "execution_count": 9,
   "id": "ab0dad2a-2598-4af0-9847-8a40986eb4cd",
   "metadata": {
    "tags": []
   },
   "outputs": [
    {
     "name": "stdout",
     "output_type": "stream",
     "text": [
      "Selected Features: Index(['OrgId', 'IncidentId', 'AlertId', 'DetectorId', 'AlertTitle',\n",
      "       'Category', 'EntityType', 'EvidenceRole', 'Sha256', 'IpAddress',\n",
      "       'AccountSid', 'DeviceName', 'NetworkMessageId', 'CountryCode', 'Day'],\n",
      "      dtype='object')\n"
     ]
    }
   ],
   "source": [
    "#Selecting top features using anova \n",
    "from sklearn.feature_selection import f_classif, SelectKBest\n",
    "\n",
    "selector = SelectKBest(score_func=f_classif, k=15)  # Adjust k as needed\n",
    "X_new = selector.fit_transform(X_train, y_train)\n",
    "\n",
    "selected_features = X_train.columns[selector.get_support()]\n",
    "print(\"Selected Features:\", selected_features)"
   ]
  },
  {
   "cell_type": "code",
   "execution_count": 10,
   "id": "44446baf-327d-4bac-83a2-b810f68ac23b",
   "metadata": {
    "tags": []
   },
   "outputs": [
    {
     "data": {
      "text/html": [
       "<div>\n",
       "<style scoped>\n",
       "    .dataframe tbody tr th:only-of-type {\n",
       "        vertical-align: middle;\n",
       "    }\n",
       "\n",
       "    .dataframe tbody tr th {\n",
       "        vertical-align: top;\n",
       "    }\n",
       "\n",
       "    .dataframe thead th {\n",
       "        text-align: right;\n",
       "    }\n",
       "</style>\n",
       "<table border=\"1\" class=\"dataframe\">\n",
       "  <thead>\n",
       "    <tr style=\"text-align: right;\">\n",
       "      <th></th>\n",
       "      <th>OrgId</th>\n",
       "      <th>IncidentId</th>\n",
       "      <th>AlertId</th>\n",
       "      <th>DetectorId</th>\n",
       "      <th>AlertTitle</th>\n",
       "      <th>Category</th>\n",
       "      <th>EntityType</th>\n",
       "      <th>EvidenceRole</th>\n",
       "      <th>Sha256</th>\n",
       "      <th>IpAddress</th>\n",
       "      <th>AccountSid</th>\n",
       "      <th>DeviceName</th>\n",
       "      <th>NetworkMessageId</th>\n",
       "      <th>CountryCode</th>\n",
       "      <th>Day</th>\n",
       "    </tr>\n",
       "  </thead>\n",
       "  <tbody>\n",
       "    <tr>\n",
       "      <th>0</th>\n",
       "      <td>64</td>\n",
       "      <td>6661</td>\n",
       "      <td>4731</td>\n",
       "      <td>366</td>\n",
       "      <td>155</td>\n",
       "      <td>5</td>\n",
       "      <td>32</td>\n",
       "      <td>0</td>\n",
       "      <td>138268</td>\n",
       "      <td>360606</td>\n",
       "      <td>441377</td>\n",
       "      <td>153085</td>\n",
       "      <td>529644</td>\n",
       "      <td>242</td>\n",
       "      <td>3</td>\n",
       "    </tr>\n",
       "    <tr>\n",
       "      <th>1</th>\n",
       "      <td>539</td>\n",
       "      <td>102061</td>\n",
       "      <td>1475076</td>\n",
       "      <td>880</td>\n",
       "      <td>1476</td>\n",
       "      <td>10</td>\n",
       "      <td>32</td>\n",
       "      <td>0</td>\n",
       "      <td>138268</td>\n",
       "      <td>360606</td>\n",
       "      <td>203</td>\n",
       "      <td>153085</td>\n",
       "      <td>529644</td>\n",
       "      <td>242</td>\n",
       "      <td>8</td>\n",
       "    </tr>\n",
       "    <tr>\n",
       "      <th>2</th>\n",
       "      <td>54</td>\n",
       "      <td>527816</td>\n",
       "      <td>1442982</td>\n",
       "      <td>132</td>\n",
       "      <td>9360</td>\n",
       "      <td>7</td>\n",
       "      <td>32</td>\n",
       "      <td>0</td>\n",
       "      <td>138268</td>\n",
       "      <td>360606</td>\n",
       "      <td>30741</td>\n",
       "      <td>153085</td>\n",
       "      <td>529644</td>\n",
       "      <td>242</td>\n",
       "      <td>6</td>\n",
       "    </tr>\n",
       "    <tr>\n",
       "      <th>3</th>\n",
       "      <td>795</td>\n",
       "      <td>41259</td>\n",
       "      <td>70207</td>\n",
       "      <td>161</td>\n",
       "      <td>131</td>\n",
       "      <td>16</td>\n",
       "      <td>32</td>\n",
       "      <td>0</td>\n",
       "      <td>138268</td>\n",
       "      <td>360606</td>\n",
       "      <td>3</td>\n",
       "      <td>153085</td>\n",
       "      <td>529644</td>\n",
       "      <td>242</td>\n",
       "      <td>14</td>\n",
       "    </tr>\n",
       "    <tr>\n",
       "      <th>4</th>\n",
       "      <td>576</td>\n",
       "      <td>30787</td>\n",
       "      <td>45958</td>\n",
       "      <td>163</td>\n",
       "      <td>134</td>\n",
       "      <td>10</td>\n",
       "      <td>32</td>\n",
       "      <td>0</td>\n",
       "      <td>138268</td>\n",
       "      <td>360606</td>\n",
       "      <td>25560</td>\n",
       "      <td>153085</td>\n",
       "      <td>529644</td>\n",
       "      <td>242</td>\n",
       "      <td>14</td>\n",
       "    </tr>\n",
       "  </tbody>\n",
       "</table>\n",
       "</div>"
      ],
      "text/plain": [
       "   OrgId  IncidentId  AlertId  DetectorId  AlertTitle  Category  EntityType  \\\n",
       "0     64        6661     4731         366         155         5          32   \n",
       "1    539      102061  1475076         880        1476        10          32   \n",
       "2     54      527816  1442982         132        9360         7          32   \n",
       "3    795       41259    70207         161         131        16          32   \n",
       "4    576       30787    45958         163         134        10          32   \n",
       "\n",
       "   EvidenceRole  Sha256  IpAddress  AccountSid  DeviceName  NetworkMessageId  \\\n",
       "0             0  138268     360606      441377      153085            529644   \n",
       "1             0  138268     360606         203      153085            529644   \n",
       "2             0  138268     360606       30741      153085            529644   \n",
       "3             0  138268     360606           3      153085            529644   \n",
       "4             0  138268     360606       25560      153085            529644   \n",
       "\n",
       "   CountryCode  Day  \n",
       "0          242    3  \n",
       "1          242    8  \n",
       "2          242    6  \n",
       "3          242   14  \n",
       "4          242   14  "
      ]
     },
     "execution_count": 10,
     "metadata": {},
     "output_type": "execute_result"
    }
   ],
   "source": [
    "X_new=X[['OrgId', 'IncidentId', 'AlertId', 'DetectorId', 'AlertTitle',\n",
    "       'Category', 'EntityType', 'EvidenceRole', 'Sha256', 'IpAddress',\n",
    "       'AccountSid', 'DeviceName', 'NetworkMessageId', 'CountryCode', 'Day']]\n",
    "X_new.head()"
   ]
  },
  {
   "cell_type": "code",
   "execution_count": 23,
   "id": "484662ba-5b6e-425c-b75c-ffee504e135a",
   "metadata": {
    "tags": []
   },
   "outputs": [
    {
     "name": "stdout",
     "output_type": "stream",
     "text": [
      "\n",
      "Evaluating RandomForest...\n",
      "Accuracy: 0.9877273651482162\n",
      "Classification Report:\n",
      "              precision    recall  f1-score   support\n",
      "\n",
      "         0.0       0.99      0.99      0.99    823049\n",
      "         1.0       0.98      0.98      0.98    405664\n",
      "         2.0       0.99      0.99      0.99    659879\n",
      "\n",
      "    accuracy                           0.99   1888592\n",
      "   macro avg       0.99      0.99      0.99   1888592\n",
      "weighted avg       0.99      0.99      0.99   1888592\n",
      "\n",
      "\n",
      "Evaluating XGBoost...\n",
      "Accuracy: 0.917744012470666\n",
      "Classification Report:\n",
      "              precision    recall  f1-score   support\n",
      "\n",
      "         0.0       0.89      0.96      0.92    823049\n",
      "         1.0       0.93      0.85      0.89    405664\n",
      "         2.0       0.94      0.91      0.93    659879\n",
      "\n",
      "    accuracy                           0.92   1888592\n",
      "   macro avg       0.92      0.91      0.91   1888592\n",
      "weighted avg       0.92      0.92      0.92   1888592\n",
      "\n"
     ]
    }
   ],
   "source": [
    "#Training train data with selected features\n",
    "\n",
    "# Split the data\n",
    "X_train, X_test, y_train, y_test = train_test_split(X_new, y, test_size=0.2, random_state=42)\n",
    "\n",
    "# Initialize the models\n",
    "model_rf = RandomForestClassifier(random_state=42)\n",
    "model_xgb = XGBClassifier(random_state=42)\n",
    "\n",
    "#RANDOM FOREST\n",
    "print(f\"\\nEvaluating RandomForest...\")\n",
    "\n",
    "# Fit the model\n",
    "model_rf.fit(X_train, y_train)\n",
    "\n",
    "# Predict on test data\n",
    "y_pred_rf = model_rf.predict(X_test)\n",
    "\n",
    "# Print accuracy and classification report\n",
    "print(\"Accuracy:\", accuracy_score(y_test, y_pred_rf))\n",
    "print(\"Classification Report:\")\n",
    "print(classification_report(y_test, y_pred_rf))\n",
    "\n",
    "#XGBOOST\n",
    "print(f\"\\nEvaluating XGBoost...\")\n",
    "\n",
    "# Fit the model \n",
    "model_xgb.fit(X_train, y_train)\n",
    "\n",
    "# Predict on test data\n",
    "y_pred_xgb = model_xgb.predict(X_test)\n",
    "\n",
    "# Print accuracy and classification report\n",
    "print(\"Accuracy:\", accuracy_score(y_test, y_pred_xgb))\n",
    "print(\"Classification Report:\")\n",
    "print(classification_report(y_test, y_pred_xgb))"
   ]
  },
  {
   "cell_type": "code",
   "execution_count": 12,
   "id": "0648569b-9daa-4fc7-be4c-7d978b90263a",
   "metadata": {
    "tags": []
   },
   "outputs": [],
   "source": [
    "import joblib\n",
    "\n",
    "# Save the trained RandomForest model to a file\n",
    "joblib.dump(model_rf, 'model/random_forest_model.pkl')"
   ]
  },
  {
   "cell_type": "code",
   "execution_count": 16,
   "id": "963c7612-9b36-4172-b900-b1260a8e1a49",
   "metadata": {
    "tags": []
   },
   "outputs": [
    {
     "data": {
      "application/vnd.jupyter.widget-view+json": {
       "model_id": "69d5a959c12a4e839cb06d59010db109",
       "version_major": 2,
       "version_minor": 0
      },
      "text/plain": [
       "Query is running:   0%|          |"
      ]
     },
     "metadata": {},
     "output_type": "display_data"
    },
    {
     "name": "stderr",
     "output_type": "stream",
     "text": [
      "/opt/conda/lib/python3.10/site-packages/google/cloud/bigquery/table.py:2309: UserWarning: Unable to represent RANGE schema as struct using pandas ArrowDtype. Using `object` instead. To use ArrowDtype, use pandas >= 1.5 and pyarrow >= 10.0.1.\n",
      "  warnings.warn(_RANGE_PYARROW_WARNING)\n",
      "/opt/conda/lib/python3.10/site-packages/google/cloud/bigquery/table.py:2323: UserWarning: Unable to represent RANGE schema as struct using pandas ArrowDtype. Using `object` instead. To use ArrowDtype, use pandas >= 1.5 and pyarrow >= 10.0.1.\n",
      "  warnings.warn(_RANGE_PYARROW_WARNING)\n",
      "/opt/conda/lib/python3.10/site-packages/google/cloud/bigquery/table.py:2337: UserWarning: Unable to represent RANGE schema as struct using pandas ArrowDtype. Using `object` instead. To use ArrowDtype, use pandas >= 1.5 and pyarrow >= 10.0.1.\n",
      "  warnings.warn(_RANGE_PYARROW_WARNING)\n"
     ]
    },
    {
     "data": {
      "application/vnd.jupyter.widget-view+json": {
       "model_id": "16ee0946e32b43c3b258a23022a48720",
       "version_major": 2,
       "version_minor": 0
      },
      "text/plain": [
       "Downloading:   0%|          |"
      ]
     },
     "metadata": {},
     "output_type": "display_data"
    }
   ],
   "source": [
    "#%%bigquery df_test\n",
    "#SELECT * FROM `data.mscyberdataset.test_table`"
   ]
  },
  {
   "cell_type": "code",
   "execution_count": 17,
   "id": "0682b0e0-d2f5-4335-aba0-6da8704bbe21",
   "metadata": {
    "tags": []
   },
   "outputs": [
    {
     "data": {
      "text/html": [
       "<div>\n",
       "<style scoped>\n",
       "    .dataframe tbody tr th:only-of-type {\n",
       "        vertical-align: middle;\n",
       "    }\n",
       "\n",
       "    .dataframe tbody tr th {\n",
       "        vertical-align: top;\n",
       "    }\n",
       "\n",
       "    .dataframe thead th {\n",
       "        text-align: right;\n",
       "    }\n",
       "</style>\n",
       "<table border=\"1\" class=\"dataframe\">\n",
       "  <thead>\n",
       "    <tr style=\"text-align: right;\">\n",
       "      <th></th>\n",
       "      <th>Id</th>\n",
       "      <th>OrgId</th>\n",
       "      <th>IncidentId</th>\n",
       "      <th>AlertId</th>\n",
       "      <th>DetectorId</th>\n",
       "      <th>AlertTitle</th>\n",
       "      <th>Category</th>\n",
       "      <th>IncidentGrade</th>\n",
       "      <th>EntityType</th>\n",
       "      <th>EvidenceRole</th>\n",
       "      <th>...</th>\n",
       "      <th>RegistryKey</th>\n",
       "      <th>RegistryValueName</th>\n",
       "      <th>ApplicationId</th>\n",
       "      <th>OAuthApplicationId</th>\n",
       "      <th>ResourceIdName</th>\n",
       "      <th>OSFamily</th>\n",
       "      <th>CountryCode</th>\n",
       "      <th>Day</th>\n",
       "      <th>Month</th>\n",
       "      <th>Hour</th>\n",
       "    </tr>\n",
       "  </thead>\n",
       "  <tbody>\n",
       "    <tr>\n",
       "      <th>0</th>\n",
       "      <td>1640677510775</td>\n",
       "      <td>753</td>\n",
       "      <td>24182</td>\n",
       "      <td>289374</td>\n",
       "      <td>541</td>\n",
       "      <td>485</td>\n",
       "      <td>10</td>\n",
       "      <td>0</td>\n",
       "      <td>2</td>\n",
       "      <td>0</td>\n",
       "      <td>...</td>\n",
       "      <td>1631</td>\n",
       "      <td>635</td>\n",
       "      <td>2251</td>\n",
       "      <td>881</td>\n",
       "      <td>22</td>\n",
       "      <td>5</td>\n",
       "      <td>242</td>\n",
       "      <td>5</td>\n",
       "      <td>6</td>\n",
       "      <td>21</td>\n",
       "    </tr>\n",
       "    <tr>\n",
       "      <th>1</th>\n",
       "      <td>1382979474591</td>\n",
       "      <td>1678</td>\n",
       "      <td>9685</td>\n",
       "      <td>1106034</td>\n",
       "      <td>1083</td>\n",
       "      <td>1927</td>\n",
       "      <td>7</td>\n",
       "      <td>0</td>\n",
       "      <td>2</td>\n",
       "      <td>0</td>\n",
       "      <td>...</td>\n",
       "      <td>1631</td>\n",
       "      <td>635</td>\n",
       "      <td>2251</td>\n",
       "      <td>881</td>\n",
       "      <td>4</td>\n",
       "      <td>5</td>\n",
       "      <td>242</td>\n",
       "      <td>13</td>\n",
       "      <td>6</td>\n",
       "      <td>12</td>\n",
       "    </tr>\n",
       "    <tr>\n",
       "      <th>2</th>\n",
       "      <td>1580547969849</td>\n",
       "      <td>878</td>\n",
       "      <td>21542</td>\n",
       "      <td>1691132</td>\n",
       "      <td>4429</td>\n",
       "      <td>26351</td>\n",
       "      <td>16</td>\n",
       "      <td>1</td>\n",
       "      <td>2</td>\n",
       "      <td>0</td>\n",
       "      <td>...</td>\n",
       "      <td>1631</td>\n",
       "      <td>635</td>\n",
       "      <td>2251</td>\n",
       "      <td>881</td>\n",
       "      <td>1499</td>\n",
       "      <td>5</td>\n",
       "      <td>242</td>\n",
       "      <td>10</td>\n",
       "      <td>6</td>\n",
       "      <td>7</td>\n",
       "    </tr>\n",
       "    <tr>\n",
       "      <th>3</th>\n",
       "      <td>463856473055</td>\n",
       "      <td>46</td>\n",
       "      <td>52165</td>\n",
       "      <td>641241</td>\n",
       "      <td>154</td>\n",
       "      <td>126</td>\n",
       "      <td>10</td>\n",
       "      <td>2</td>\n",
       "      <td>2</td>\n",
       "      <td>0</td>\n",
       "      <td>...</td>\n",
       "      <td>1631</td>\n",
       "      <td>635</td>\n",
       "      <td>2251</td>\n",
       "      <td>881</td>\n",
       "      <td>0</td>\n",
       "      <td>5</td>\n",
       "      <td>242</td>\n",
       "      <td>7</td>\n",
       "      <td>6</td>\n",
       "      <td>17</td>\n",
       "    </tr>\n",
       "    <tr>\n",
       "      <th>4</th>\n",
       "      <td>34359738465</td>\n",
       "      <td>67</td>\n",
       "      <td>522340</td>\n",
       "      <td>640492</td>\n",
       "      <td>154</td>\n",
       "      <td>126</td>\n",
       "      <td>10</td>\n",
       "      <td>0</td>\n",
       "      <td>2</td>\n",
       "      <td>0</td>\n",
       "      <td>...</td>\n",
       "      <td>1631</td>\n",
       "      <td>635</td>\n",
       "      <td>2251</td>\n",
       "      <td>881</td>\n",
       "      <td>2</td>\n",
       "      <td>5</td>\n",
       "      <td>242</td>\n",
       "      <td>12</td>\n",
       "      <td>6</td>\n",
       "      <td>13</td>\n",
       "    </tr>\n",
       "  </tbody>\n",
       "</table>\n",
       "<p>5 rows × 28 columns</p>\n",
       "</div>"
      ],
      "text/plain": [
       "              Id  OrgId  IncidentId  AlertId  DetectorId  AlertTitle  \\\n",
       "0  1640677510775    753       24182   289374         541         485   \n",
       "1  1382979474591   1678        9685  1106034        1083        1927   \n",
       "2  1580547969849    878       21542  1691132        4429       26351   \n",
       "3   463856473055     46       52165   641241         154         126   \n",
       "4    34359738465     67      522340   640492         154         126   \n",
       "\n",
       "   Category  IncidentGrade  EntityType  EvidenceRole  ...  RegistryKey  \\\n",
       "0        10              0           2             0  ...         1631   \n",
       "1         7              0           2             0  ...         1631   \n",
       "2        16              1           2             0  ...         1631   \n",
       "3        10              2           2             0  ...         1631   \n",
       "4        10              0           2             0  ...         1631   \n",
       "\n",
       "   RegistryValueName  ApplicationId  OAuthApplicationId  ResourceIdName  \\\n",
       "0                635           2251                 881              22   \n",
       "1                635           2251                 881               4   \n",
       "2                635           2251                 881            1499   \n",
       "3                635           2251                 881               0   \n",
       "4                635           2251                 881               2   \n",
       "\n",
       "   OSFamily  CountryCode  Day  Month  Hour  \n",
       "0         5          242    5      6    21  \n",
       "1         5          242   13      6    12  \n",
       "2         5          242   10      6     7  \n",
       "3         5          242    7      6    17  \n",
       "4         5          242   12      6    13  \n",
       "\n",
       "[5 rows x 28 columns]"
      ]
     },
     "execution_count": 17,
     "metadata": {},
     "output_type": "execute_result"
    }
   ],
   "source": [
    "df_test.head()"
   ]
  },
  {
   "cell_type": "code",
   "execution_count": 18,
   "id": "1d072a6a-9547-42cd-8e24-0f85f8d3d429",
   "metadata": {
    "tags": []
   },
   "outputs": [],
   "source": [
    "X2 = df_test[['OrgId', 'IncidentId', 'AlertId', 'DetectorId', 'AlertTitle',\n",
    "       'Category', 'EntityType', 'EvidenceRole', 'Sha256', 'IpAddress',\n",
    "       'AccountSid', 'DeviceName', 'NetworkMessageId', 'CountryCode', 'Day']]\n",
    "y2= df_test['IncidentGrade']"
   ]
  },
  {
   "cell_type": "code",
   "execution_count": 13,
   "id": "1ccbf337-5dc0-4400-8440-fbeaa6b37cfe",
   "metadata": {
    "tags": []
   },
   "outputs": [],
   "source": [
    "# Load the model from file\n",
    "loaded_model_rf = joblib.load('model/random_forest_model.pkl')"
   ]
  },
  {
   "cell_type": "code",
   "execution_count": 31,
   "id": "98d69305-0132-4fd2-bd1f-3958e1ed4c40",
   "metadata": {
    "tags": []
   },
   "outputs": [],
   "source": [
    "y_pred_new = loaded_model_rf.predict(X2)"
   ]
  },
  {
   "cell_type": "code",
   "execution_count": 32,
   "id": "4cf2c0d6-796f-4a1a-b3ff-12b5dfe1e601",
   "metadata": {
    "tags": []
   },
   "outputs": [
    {
     "name": "stdout",
     "output_type": "stream",
     "text": [
      "Accuracy: 0.9330143436852683\n",
      "Classification Report:\n",
      "              precision    recall  f1-score   support\n",
      "\n",
      "         0.0       0.93      0.95      0.94   1752895\n",
      "         1.0       0.91      0.89      0.90    902664\n",
      "         2.0       0.95      0.94      0.95   1492329\n",
      "\n",
      "    accuracy                           0.93   4147888\n",
      "   macro avg       0.93      0.93      0.93   4147888\n",
      "weighted avg       0.93      0.93      0.93   4147888\n",
      "\n"
     ]
    }
   ],
   "source": [
    "print(\"Accuracy:\", accuracy_score(y2, y_pred_new))\n",
    "print(\"Classification Report:\")\n",
    "print(classification_report(y2, y_pred_new))"
   ]
  }
 ],
 "metadata": {
  "environment": {
   "kernel": "python3",
   "name": "tf2-cpu.2-11.m124",
   "type": "gcloud",
   "uri": "us-docker.pkg.dev/deeplearning-platform-release/gcr.io/tf2-cpu.2-11:m124"
  },
  "kernelspec": {
   "display_name": "Python 3 (ipykernel)",
   "language": "python",
   "name": "python3"
  },
  "language_info": {
   "codemirror_mode": {
    "name": "ipython",
    "version": 3
   },
   "file_extension": ".py",
   "mimetype": "text/x-python",
   "name": "python",
   "nbconvert_exporter": "python",
   "pygments_lexer": "ipython3",
   "version": "3.12.3"
  }
 },
 "nbformat": 4,
 "nbformat_minor": 5
}
